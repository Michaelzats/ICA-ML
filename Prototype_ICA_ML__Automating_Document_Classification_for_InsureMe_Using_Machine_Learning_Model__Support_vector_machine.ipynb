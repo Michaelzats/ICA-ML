{
  "nbformat": 4,
  "nbformat_minor": 0,
  "metadata": {
    "colab": {
      "provenance": [],
      "authorship_tag": "ABX9TyNtbhskXUF4r2xGNpCCwMsN",
      "include_colab_link": true
    },
    "kernelspec": {
      "name": "python3",
      "display_name": "Python 3"
    },
    "language_info": {
      "name": "python"
    }
  },
  "cells": [
    {
      "cell_type": "markdown",
      "metadata": {
        "id": "view-in-github",
        "colab_type": "text"
      },
      "source": [
        "<a href=\"https://colab.research.google.com/github/Michaelzats/ICA-ML/blob/main/Prototype_ICA_ML__Automating_Document_Classification_for_InsureMe_Using_Machine_Learning_Model__Support_vector_machine.ipynb\" target=\"_parent\"><img src=\"https://colab.research.google.com/assets/colab-badge.svg\" alt=\"Open In Colab\"/></a>"
      ]
    },
    {
      "cell_type": "markdown",
      "source": [
        "**Document Classification using Machine Learning and Deep Learning Techniques**\n",
        "\n",
        "In the realm of automated document classification, we embarked on an exploration to classify a diverse set of documents into predefined categories. The dataset under scrutiny, sourced from Kaggle, is titled \"[(10)Dataset Text Document Classification](https://www.kaggle.com/datasets/jensenbaxter/10dataset-text-document-classification)\". It comprises documents categorized under the following labels: 'business', 'entertainment', 'food', 'graphics', 'historical', 'medical', 'politics', 'space', 'sport', and 'technology'. Each category is represented by 100 text files, culminating in a comprehensive dataset.\n",
        "\n",
        "For the purpose of training and evaluation, the dataset was partitioned into a 70-30 split, with 70% allocated for training and the remaining 30% reserved for testing.\n",
        "\n",
        "Our investigative approach encompassed a range of machine learning models, namely Naive Bayes, Support Vector Machines (SVM), and Random Forest. Additionally, a Deep Neural Network, a paradigm of deep learning, was also employed. To enhance the performance and robustness of these models, various techniques were integrated into the pipeline:\n",
        "\n",
        "Feature Engineering: Utilization of N-grams to capture local word order information.\n",
        "Word Embeddings: Leveraging pre-trained embeddings to represent words in a dense vector space.\n",
        "Feature Selection: The Chi-Squared Test was employed to select significant features.\n",
        "Model Ensembling: Bagging was used to reduce variance by training multiple models.\n",
        "Regularization Techniques: Dropout was introduced to prevent overfitting in the deep learning model.\n",
        "The models were evaluated on multiple metrics, including Precision, Recall, F1-Score, and Accuracy. The F1-Score, which harmoniously balances Precision and Recall, was chosen as the primary metric to determine the best model.\n",
        "\n",
        "Upon thorough evaluation, the SVM without any enhancements emerged as the superior model with an F1 Score of 0.9833512749362039. While other models with feature enhancements were closely competitive, the computational overhead and marginally inferior performance make the standardized SVM the recommended choice for this document classification task.\n",
        "\n",
        "The development and refinement of our approach were greatly aided by resources from StackOverflow, ChatGPT, and a series of YouTube tutorials:\n",
        "\n",
        "[Python Machine Learning #4 - Support Vector Machines\n",
        "](https://www.youtube.com/watch?v=99Eyw7Quacc)\n",
        "\n",
        "[Neural Network Python | How to make a Neural Network in Python | Python Tutorial | Edureka](https://www.youtube.com/watch?v=9UBqkUJVP4g)\n",
        "\n",
        "[Machine Learning Tutorial Python - 11 Random Forest\n",
        "](https://www.youtube.com/watch?v=ok2s1vV9XW0)\n",
        "\n",
        "[Naive Bayes Classifier in Python (from scratch!)\n",
        "](https://www.youtube.com/watch?v=3I8oX3OUL6I)\n",
        "\n",
        "**Literature used for deeper understanding of the models:**\n",
        "Alpaydin, E., 2020. Introduction to machine learning. MIT press.\n",
        "Baltrušaitis, T., Ahuja, C. and Morency, L.P., 2018. Multimodal machine learning: A survey and taxonomy. IEEE transactions on pattern analysis and machine intelligence, 41(2), pp.423-443.\n",
        "Chen, Y.W. and Lin, C.J., 2006. Combining SVMs with various feature selection strategies. Feature extraction: foundations and applications, pp.315-324.\n",
        "Goodfellow, I., Bengio, Y. and Courville, A., 2016. Deep learning. MIT press.\n",
        "Liaw, A. and Wiener, M., 2015. randomForest: Breiman and Cutler’s random forests for classification and regression. R package version, 4, p.14.\n",
        "McCallum, A. and Nigam, K., 1998, July. A comparison of event models for naive bayes text classification. In AAAI-98 workshop on learning for text categorization (Vol. 752, No. 1, pp. 41-48).\n",
        "Oliphant, T.E., 2007. Python for scientific computing. Computing in science & engineering, 9(3), pp.10-20.\n",
        "Provost, F. and Fawcett, T., 2013. Data Science for Business: What you need to know about data mining and data-analytic thinking. \" O'Reilly Media, Inc.\".\n",
        "Shawe-Taylor, J. and Cristianini, N., 2004. Kernel methods for pattern analysis. Cambridge university press.\n",
        "Srivastava, N., Hinton, G., Krizhevsky, A., Sutskever, I. and Salakhutdinov, R., 2014. Dropout: a simple way to prevent neural networks from overfitting.\n",
        "The journal of machine learning research, 15(1), pp.1929-1958.\n",
        "\n",
        "\n"
      ],
      "metadata": {
        "id": "3fVk-W--FjsY"
      }
    },
    {
      "cell_type": "markdown",
      "source": [
        "Importing Libraries\n"
      ],
      "metadata": {
        "id": "FVW1yISQEj4B"
      }
    },
    {
      "cell_type": "code",
      "execution_count": 86,
      "metadata": {
        "id": "mlXUj1a6EbNU"
      },
      "outputs": [],
      "source": [
        "# Import necessary libraries\n",
        "import numpy as np\n",
        "import pandas as pd\n",
        "import os\n",
        "from sklearn.model_selection import train_test_split\n",
        "from sklearn.feature_extraction.text import CountVectorizer, TfidfTransformer\n",
        "from sklearn.naive_bayes import MultinomialNB\n",
        "from sklearn.metrics import classification_report\n",
        "import matplotlib.pyplot as plt\n",
        "import seaborn as sns\n",
        "from sklearn.metrics import confusion_matrix\n",
        "import nltk\n",
        "from sklearn.feature_extraction.text import TfidfVectorizer\n",
        "from sklearn.svm import SVC\n",
        "from sklearn.pipeline import make_pipeline\n",
        "from sklearn.preprocessing import StandardScaler\n",
        "from sklearn.ensemble import RandomForestClassifier\n",
        "import gensim.downloader as api\n",
        "from gensim.models import Word2Vec\n",
        "from sklearn.feature_selection import SelectKBest, chi2\n",
        "from sklearn.ensemble import BaggingClassifier\n",
        "from sklearn.naive_bayes import GaussianNB\n",
        "from sklearn.svm import LinearSVC\n",
        "import tensorflow as tf\n",
        "from tensorflow.keras.models import Sequential\n",
        "from tensorflow.keras.layers import Dense, Dropout\n",
        "from tensorflow.keras.wrappers.scikit_learn import KerasClassifier\n",
        "from sklearn.metrics import f1_score\n",
        "from sklearn.feature_extraction.text import TfidfVectorizer\n",
        "from sklearn.feature_selection import SelectKBest, chi2\n",
        "from sklearn.svm import LinearSVC\n",
        "from sklearn.naive_bayes import MultinomialNB\n",
        "from sklearn.ensemble import RandomForestClassifier\n",
        "from sklearn.metrics import f1_score\n",
        "from keras.models import Sequential\n",
        "from keras.layers import Dense\n",
        "from keras.wrappers.scikit_learn import KerasClassifier\n",
        "\n",
        "\n"
      ]
    },
    {
      "cell_type": "code",
      "source": [
        "# Once uploaded, you can unzip using:\n",
        "#!unzip 10dataset-text-document-classification.zip\n",
        "!ls\n"
      ],
      "metadata": {
        "colab": {
          "base_uri": "https://localhost:8080/"
        },
        "id": "rD0A5RJaFmqo",
        "outputId": "87843eef-368a-491c-e8af-8b1c5dccf079"
      },
      "execution_count": 17,
      "outputs": [
        {
          "output_type": "stream",
          "name": "stdout",
          "text": [
            "10dataset-text-document-classification.zip  graphics\tsample_data\n",
            "business\t\t\t\t    historical\tspace\n",
            "entertainment\t\t\t\t    medical\tsport\n",
            "food\t\t\t\t\t    politics\ttechnologie\n"
          ]
        }
      ]
    },
    {
      "cell_type": "markdown",
      "source": [
        "Data Loading and Preprocessing\n"
      ],
      "metadata": {
        "id": "7PISyrcFElWH"
      }
    },
    {
      "cell_type": "markdown",
      "source": [
        "Extrcting each category, setting 30% of data for training and 70% for testing"
      ],
      "metadata": {
        "id": "o2D4UpEyJtuR"
      }
    },
    {
      "cell_type": "code",
      "source": [
        "# List of categories based on the directories you've shown\n",
        "categories = ['business', 'entertainment', 'food', 'graphics', 'historical', 'medical', 'politics', 'space', 'sport', 'technologie']\n",
        "\n",
        "texts = []\n",
        "labels = []\n",
        "\n",
        "for category in categories:\n",
        "    for filename in os.listdir(category):\n",
        "        with open(f\"./{category}/{filename}\", 'r', encoding='utf-8', errors='ignore') as file:\n",
        "            texts.append(file.read())\n",
        "            labels.append(category)\n",
        "\n",
        "# Splitting the dataset into training and testing sets\n",
        "X_train, X_test, y_train, y_test = train_test_split(texts, labels, test_size=0.3, random_state=42)\n"
      ],
      "metadata": {
        "id": "6dlm8WsREn75"
      },
      "execution_count": 27,
      "outputs": []
    },
    {
      "cell_type": "markdown",
      "source": [
        "**Naive Bayes, SVM, Random Forest, Deep Neural Network (No enhancment tecniques)**"
      ],
      "metadata": {
        "id": "kQKcJMZQSTZ9"
      }
    },
    {
      "cell_type": "markdown",
      "source": [
        "Feature Extraction"
      ],
      "metadata": {
        "id": "FkbY2ABdH1Un"
      }
    },
    {
      "cell_type": "markdown",
      "source": [
        "**Description:**\n",
        "\n",
        "This code segment is dedicated to enhancing the document classification process by incorporating bigrams (pairs of adjacent words) and evaluating the performance of various machine learning models, including a deep neural network.\n",
        "\n",
        "**Bigram Incorporation:**\n",
        "The TfidfVectorizer is employed with the ngram_range parameter set to (1,2). This means that the vectorization process will consider both individual words (unigrams) and pairs of adjacent words (bigrams) to transform the text data into numerical format. This can capture more contextual information than using unigrams alone.\n",
        "\n",
        "The training and test datasets are transformed using this vectorizer and converted to arrays for compatibility with Keras.\n",
        "\n",
        "**Deep Neural Network Definition:**\n",
        "\n",
        "A feed-forward neural network is defined using the Keras library. The network comprises two hidden layers with dropout regularization to prevent overfitting. The output layer uses a softmax activation function, suitable for multi-class classification problems. The loss function chosen is sparse_categorical_crossentropy, which is appropriate for integer-encoded class labels.\n",
        "\n",
        "**Model Training and Evaluation:**\n",
        "\n",
        "Four models are defined: Naive Bayes, Support Vector Machine (SVM), Random Forest, and the previously defined Deep Neural Network.\n",
        "Each model is trained on the training dataset and then evaluated on the test dataset.\n",
        "The performance of each model is assessed using various metrics, including precision, recall, F1-score, accuracy, and support. These metrics provide a comprehensive understanding of each model's performance, considering both the positive and negative classes.\n",
        "The results are aggregated and presented in a tabular format using a DataFrame.\n",
        "\n",
        "**Outcome:**\n",
        "\n",
        "Upon execution, this code will display the performance metrics of each model when using bigrams as part of the feature extraction process. This provides insights into the potential benefits of capturing more contextual information from the text data.\n"
      ],
      "metadata": {
        "id": "k4DIoanDJUxG"
      }
    },
    {
      "cell_type": "code",
      "source": [
        "# Using bigrams\n",
        "tfidf_vectorizer_ngrams = TfidfVectorizer(stop_words='english', ngram_range=(1,2))\n",
        "X_train_tfidf_ngrams = tfidf_vectorizer_ngrams.fit_transform(X_train).toarray()  # Convert to array for Keras\n",
        "X_test_tfidf_ngrams = tfidf_vectorizer_ngrams.transform(X_test).toarray()\n",
        "\n",
        "# Define a simple feed-forward neural network for Keras\n",
        "def create_nn_model():\n",
        "    model = Sequential()\n",
        "    model.add(Dense(128, input_dim=X_train_tfidf_ngrams.shape[1], activation='relu'))\n",
        "    model.add(Dropout(0.5))\n",
        "    model.add(Dense(64, activation='relu'))\n",
        "    model.add(Dropout(0.5))\n",
        "    model.add(Dense(len(set(y_train)), activation='softmax'))  # Number of classes\n",
        "    model.compile(loss='sparse_categorical_crossentropy', optimizer='adam', metrics=['accuracy'])\n",
        "    return model\n",
        "\n",
        "def train_and_evaluate_models(X_train, X_test):\n",
        "    # Define the models\n",
        "    models = {\n",
        "        'Naive Bayes': MultinomialNB(),\n",
        "        'SVM': SVC(kernel='linear'),\n",
        "        'Random Forest': RandomForestClassifier(random_state=42),\n",
        "        'Deep Neural Network': KerasClassifier(build_fn=create_nn_model, epochs=10, batch_size=32, verbose=0)\n",
        "    }\n",
        "\n",
        "    # Train and evaluate the models\n",
        "    results = {}\n",
        "    for model_name, model in models.items():\n",
        "        # Train\n",
        "        model.fit(X_train, y_train)\n",
        "        # Predict\n",
        "        y_pred = model.predict(X_test)\n",
        "        # Evaluate\n",
        "        report = classification_report(y_test, y_pred, output_dict=True)\n",
        "        results[model_name] = {\n",
        "            'Precision': report['weighted avg']['precision'],\n",
        "            'Recall': report['weighted avg']['recall'],\n",
        "            'F1-Score': report['weighted avg']['f1-score'],\n",
        "            'Accuracy': report['accuracy'],\n",
        "            'Support': report['weighted avg']['support']\n",
        "        }\n",
        "\n",
        "    # Convert results to DataFrame for display\n",
        "    df_results = pd.DataFrame(results).transpose()\n",
        "    return df_results\n",
        "\n",
        "# Train and evaluate models with N-grams\n",
        "df_results_ngrams = train_and_evaluate_models(X_train_tfidf_ngrams, X_test_tfidf_ngrams)\n",
        "print(df_results_ngrams)\n"
      ],
      "metadata": {
        "colab": {
          "base_uri": "https://localhost:8080/"
        },
        "id": "IQOpNzbAh0Fl",
        "outputId": "8e01b5e3-1e25-4d54-af4e-e1c7e5a35731"
      },
      "execution_count": 88,
      "outputs": [
        {
          "output_type": "stream",
          "name": "stderr",
          "text": [
            "<ipython-input-88-ae7cc522a473>:28: DeprecationWarning: KerasClassifier is deprecated, use Sci-Keras (https://github.com/adriangb/scikeras) instead. See https://www.adriangb.com/scikeras/stable/migration.html for help migrating.\n",
            "  'Deep Neural Network': KerasClassifier(build_fn=create_nn_model, epochs=10, batch_size=32, verbose=0)\n"
          ]
        },
        {
          "output_type": "stream",
          "name": "stdout",
          "text": [
            "10/10 [==============================] - 1s 43ms/step\n",
            "                     Precision    Recall  F1-Score  Accuracy  Support\n",
            "Naive Bayes           0.960224  0.953333  0.954150  0.953333    300.0\n",
            "SVM                   0.983936  0.983333  0.983265  0.983333    300.0\n",
            "Random Forest         0.918228  0.910000  0.909164  0.910000    300.0\n",
            "Deep Neural Network   0.970924  0.970000  0.970132  0.970000    300.0\n"
          ]
        }
      ]
    },
    {
      "cell_type": "markdown",
      "source": [
        "**Naive Bayes, SVM, Random Forest, Deep Neural Network (Feature Engineering - N-grams)**"
      ],
      "metadata": {
        "id": "4fVwnalCTGiL"
      }
    },
    {
      "cell_type": "markdown",
      "source": [
        "Feature Extraction"
      ],
      "metadata": {
        "id": "tbNpUXEoS7R-"
      }
    },
    {
      "cell_type": "markdown",
      "source": [
        "**Description:**\n",
        "\n",
        "This segment of code is dedicated to the task of document classification, with a particular emphasis on leveraging bigrams (pairs of adjacent words) as features. The performance of various machine learning models, inclusive of a deep neural network, is evaluated.\n",
        "\n",
        "\n",
        "**Bigram Feature Extraction:**\n",
        "\n",
        "The TfidfVectorizer is utilized with the ngram_range parameter set to (1,2). This ensures that the vectorization process captures both individual words (unigrams) and their adjacent pairs (bigrams). This approach can potentially encapsulate more contextual nuances than merely using unigrams.\n",
        "The training and test datasets undergo transformation using this vectorizer and are subsequently converted to arrays to ensure compatibility with the Keras framework.\n",
        "\n",
        "\n",
        "**Deep Neural Network Architecture:**\n",
        "\n",
        "A feed-forward neural network is architected using the Keras library. The network encompasses two hidden layers, with dropout layers interspersed to mitigate the risk of overfitting. The activation function for the output layer is set to softmax, making it suitable for multi-class classification scenarios. The chosen loss function, sparse_categorical_crossentropy, is apt for integer-encoded class labels.\n",
        "\n",
        "**Model Training & Evaluation Framework:**\n",
        "\n",
        "Four distinct models are delineated: Naive Bayes, Support Vector Machine (SVM), Random Forest, and the previously defined Deep Neural Network.\n",
        "Each model undergoes training on the training dataset, followed by evaluation on the test dataset.\n",
        "\n",
        "Performance metrics, namely precision, recall, F1-score, accuracy, and support, are employed to gauge the efficacy of each model. These metrics furnish a holistic view of the model's performance, taking into account both the positive and negative classes.\n",
        "The results are collated and presented in a structured tabular format using a DataFrame.\n",
        "\n",
        "**Outcome:**\n",
        "\n",
        "Upon execution, this code will render the performance metrics of each model when bigrams are incorporated into the feature extraction process. This elucidates the potential advantages of imbibing more contextual information from the textual data.\n",
        "\n",
        "\n"
      ],
      "metadata": {
        "id": "NyhDpMxPKSs8"
      }
    },
    {
      "cell_type": "code",
      "source": [
        "# Using bigrams\n",
        "tfidf_vectorizer_ngrams = TfidfVectorizer(stop_words='english', ngram_range=(1,2))\n",
        "X_train_tfidf_ngrams = tfidf_vectorizer_ngrams.fit_transform(X_train).toarray()  # Convert to array for Keras\n",
        "X_test_tfidf_ngrams = tfidf_vectorizer_ngrams.transform(X_test).toarray()\n",
        "\n",
        "# Define a simple feed-forward neural network for Keras\n",
        "def create_nn_model():\n",
        "    model = Sequential()\n",
        "    model.add(Dense(128, input_dim=X_train_tfidf_ngrams.shape[1], activation='relu'))\n",
        "    model.add(Dropout(0.5))\n",
        "    model.add(Dense(64, activation='relu'))\n",
        "    model.add(Dropout(0.5))\n",
        "    model.add(Dense(len(set(y_train)), activation='softmax'))  # Number of classes\n",
        "    model.compile(loss='sparse_categorical_crossentropy', optimizer='adam', metrics=['accuracy'])\n",
        "    return model\n",
        "\n",
        "def train_and_evaluate_models(X_train, X_test):\n",
        "    # Define the models\n",
        "    models = {\n",
        "        'Naive Bayes': MultinomialNB(),\n",
        "        'SVM': SVC(kernel='linear'),\n",
        "        'Random Forest': RandomForestClassifier(random_state=42),\n",
        "        'Deep Neural Network': KerasClassifier(build_fn=create_nn_model, epochs=10, batch_size=32, verbose=0)\n",
        "    }\n",
        "\n",
        "    # Train and evaluate the models\n",
        "    results = {}\n",
        "    for model_name, model in models.items():\n",
        "        # Train\n",
        "        model.fit(X_train, y_train)\n",
        "        # Predict\n",
        "        y_pred = model.predict(X_test)\n",
        "        # Evaluate\n",
        "        report = classification_report(y_test, y_pred, output_dict=True)\n",
        "        results[model_name] = {\n",
        "            'Precision': report['weighted avg']['precision'],\n",
        "            'Recall': report['weighted avg']['recall'],\n",
        "            'F1-Score': report['weighted avg']['f1-score'],\n",
        "            'Accuracy': report['accuracy'],\n",
        "            'Support': report['weighted avg']['support']\n",
        "        }\n",
        "\n",
        "    # Convert results to DataFrame for display\n",
        "    df_results = pd.DataFrame(results).transpose()\n",
        "    return df_results\n",
        "\n",
        "# Train and evaluate models with N-grams\n",
        "df_results_ngrams = train_and_evaluate_models(X_train_tfidf_ngrams, X_test_tfidf_ngrams)\n",
        "print(df_results_ngrams)\n"
      ],
      "metadata": {
        "colab": {
          "base_uri": "https://localhost:8080/"
        },
        "id": "cTST751LjO5D",
        "outputId": "9a055f14-5e79-4ce6-d6f4-dad59f4d6d69"
      },
      "execution_count": 89,
      "outputs": [
        {
          "output_type": "stream",
          "name": "stderr",
          "text": [
            "<ipython-input-89-ae7cc522a473>:28: DeprecationWarning: KerasClassifier is deprecated, use Sci-Keras (https://github.com/adriangb/scikeras) instead. See https://www.adriangb.com/scikeras/stable/migration.html for help migrating.\n",
            "  'Deep Neural Network': KerasClassifier(build_fn=create_nn_model, epochs=10, batch_size=32, verbose=0)\n"
          ]
        },
        {
          "output_type": "stream",
          "name": "stdout",
          "text": [
            "10/10 [==============================] - 0s 39ms/step\n",
            "                     Precision    Recall  F1-Score  Accuracy  Support\n",
            "Naive Bayes           0.960224  0.953333  0.954150  0.953333    300.0\n",
            "SVM                   0.983936  0.983333  0.983265  0.983333    300.0\n",
            "Random Forest         0.918228  0.910000  0.909164  0.910000    300.0\n",
            "Deep Neural Network   0.977571  0.976667  0.976825  0.976667    300.0\n"
          ]
        }
      ]
    },
    {
      "cell_type": "markdown",
      "source": [
        "**Naive Bayes, SVM, Random Forest, Deep Neural Network (Word Embeddings - Pre-trained Embeddings)**"
      ],
      "metadata": {
        "id": "5k27dAWIUJn4"
      }
    },
    {
      "cell_type": "markdown",
      "source": [
        "**Description:**\n",
        "\n",
        "This segment of the code is dedicated to the task of document classification, leveraging the power of Word2Vec embeddings. Word2Vec is a pre-trained model that captures semantic relationships between words by representing them as vectors in a high-dimensional space. The performance of various machine learning models, inclusive of a deep neural network, is evaluated using these embeddings.\n",
        "\n",
        "**Word2Vec Embeddings:**\n",
        "\n",
        "The Google News Word2Vec model, which is trained on a vast corpus and has a vector size of 300, is loaded.\n",
        "A function, document_to_word2vec, is defined to convert a document into its corresponding Word2Vec representation. This is achieved by averaging the Word2Vec vectors of individual words present in the document.\n",
        "Both the training and test datasets are transformed into their Word2Vec representations.\n",
        "\n",
        "**Deep Neural Network Architecture:**\n",
        "\n",
        "A feed-forward neural network is architected using the Keras library. The network encompasses two hidden layers, with dropout layers interspersed to mitigate the risk of overfitting. The activation function for the output layer is set to softmax, making it suitable for multi-class classification scenarios. The chosen loss function, sparse_categorical_crossentropy, is apt for integer-encoded class labels.\n",
        "\n",
        "**Model Training & Evaluation Framework:**\n",
        "\n",
        "Four distinct models are delineated: Naive Bayes (specifically GaussianNB due to continuous features from Word2Vec), Support Vector Machine (SVM), Random Forest, and the previously defined Deep Neural Network.\n",
        "Each model undergoes training on the Word2Vec-transformed training dataset, followed by evaluation on the transformed test dataset.\n",
        "Performance metrics, namely precision, recall, F1-score, accuracy, and support, are employed to gauge the efficacy of each model. These metrics furnish a holistic view of the model's performance, taking into account both the positive and negative classes.\n",
        "The results are collated and presented in a structured tabular format using a DataFrame.\n",
        "\n",
        "**Outcome:**\n",
        "Upon execution, this code will render the performance metrics of each model when Word2Vec embeddings are employed as features. This elucidates the potential advantages of imbibing semantic information from the textual data.\n",
        "\n"
      ],
      "metadata": {
        "id": "v28ISuf5Pq4B"
      }
    },
    {
      "cell_type": "code",
      "source": [
        "word2vec_model = api.load(\"word2vec-google-news-300\")\n",
        "\n",
        "def document_to_word2vec(doc, model):\n",
        "    # Tokenize the document, filter out words not in the model's vocabulary\n",
        "    words = [word for word in doc.split() if word in model.key_to_index]\n",
        "    if len(words) == 0:\n",
        "        return np.zeros(model.vector_size)\n",
        "    # Convert words to vectors and average them\n",
        "    return np.mean([model[word] for word in words], axis=0)\n",
        "\n",
        "X_train_word2vec = np.array([document_to_word2vec(doc, word2vec_model) for doc in X_train])\n",
        "X_test_word2vec = np.array([document_to_word2vec(doc, word2vec_model) for doc in X_test])\n",
        "\n",
        "# Define a simple feed-forward neural network for Keras\n",
        "def create_nn_model():\n",
        "    model = Sequential()\n",
        "    model.add(Dense(128, input_dim=X_train_word2vec.shape[1], activation='relu'))\n",
        "    model.add(Dropout(0.5))\n",
        "    model.add(Dense(64, activation='relu'))\n",
        "    model.add(Dropout(0.5))\n",
        "    model.add(Dense(len(set(y_train)), activation='softmax'))  # Number of classes\n",
        "    model.compile(loss='sparse_categorical_crossentropy', optimizer='adam', metrics=['accuracy'])\n",
        "    return model\n",
        "\n",
        "def train_and_evaluate_models(X_train, X_test):\n",
        "    # Define the models\n",
        "    models = {\n",
        "        'Naive Bayes': GaussianNB(),\n",
        "        'SVM': SVC(kernel='linear'),\n",
        "        'Random Forest': RandomForestClassifier(random_state=42),\n",
        "        'Deep Neural Network': KerasClassifier(build_fn=create_nn_model, epochs=10, batch_size=32, verbose=0)\n",
        "    }\n",
        "\n",
        "    # Train and evaluate the models\n",
        "    results = {}\n",
        "    for model_name, model in models.items():\n",
        "        # Train\n",
        "        model.fit(X_train, y_train)\n",
        "        # Predict\n",
        "        y_pred = model.predict(X_test)\n",
        "        # Evaluate\n",
        "        report = classification_report(y_test, y_pred, output_dict=True)\n",
        "        results[model_name] = {\n",
        "            'Precision': report['weighted avg']['precision'],\n",
        "            'Recall': report['weighted avg']['recall'],\n",
        "            'F1-Score': report['weighted avg']['f1-score'],\n",
        "            'Accuracy': report['accuracy'],\n",
        "            'Support': report['weighted avg']['support']\n",
        "        }\n",
        "\n",
        "    # Convert results to DataFrame for display\n",
        "    df_results = pd.DataFrame(results).transpose()\n",
        "    return df_results\n",
        "\n",
        "# Train and evaluate models with Word2Vec features\n",
        "df_results_word2vec = train_and_evaluate_models(X_train_word2vec, X_test_word2vec)\n",
        "print(df_results_word2vec)\n"
      ],
      "metadata": {
        "colab": {
          "base_uri": "https://localhost:8080/"
        },
        "id": "lvu3GO8pamNT",
        "outputId": "47fd1af4-6497-43ae-b8a8-36805ba55469"
      },
      "execution_count": 90,
      "outputs": [
        {
          "output_type": "stream",
          "name": "stderr",
          "text": [
            "<ipython-input-90-964a1b500099>:31: DeprecationWarning: KerasClassifier is deprecated, use Sci-Keras (https://github.com/adriangb/scikeras) instead. See https://www.adriangb.com/scikeras/stable/migration.html for help migrating.\n",
            "  'Deep Neural Network': KerasClassifier(build_fn=create_nn_model, epochs=10, batch_size=32, verbose=0)\n"
          ]
        },
        {
          "output_type": "stream",
          "name": "stdout",
          "text": [
            "10/10 [==============================] - 0s 2ms/step\n",
            "                     Precision    Recall  F1-Score  Accuracy  Support\n",
            "Naive Bayes           0.913782  0.890000  0.896101  0.890000    300.0\n",
            "SVM                   0.952229  0.950000  0.950233  0.950000    300.0\n",
            "Random Forest         0.956635  0.953333  0.953764  0.953333    300.0\n",
            "Deep Neural Network   0.927311  0.920000  0.919374  0.920000    300.0\n"
          ]
        }
      ]
    },
    {
      "cell_type": "markdown",
      "source": [
        "**Naive Bayes, SVM, Random Forest, Deep Neural Network (Feature Selection - Chi-Squared Test)**"
      ],
      "metadata": {
        "id": "6-R0ipGuXOx1"
      }
    },
    {
      "cell_type": "markdown",
      "source": [
        "**Description:**\n",
        "\n",
        "In this segment, the code is focused on enhancing the document classification task by incorporating bigrams and feature selection using the chi-squared test. The objective is to discern the impact of these techniques on the performance of various machine learning models, including a deep neural network.\n",
        "\n",
        "**Bigrams with TF-IDF:**\n",
        "\n",
        "The Term Frequency-Inverse Document Frequency (TF-IDF) vectorizer is employed with a configuration to consider both unigrams and bigrams. Bigrams can capture more contextual information than unigrams, potentially improving the model's understanding of the text.\n",
        "The training and test datasets are transformed into their corresponding TF-IDF representations, which are then converted to arrays to facilitate compatibility with Keras.\n",
        "\n",
        "**Feature Selection using Chi-Squared Test:**\n",
        "\n",
        "The chi-squared test is a statistical test used to determine the dependence of two categorical variables. Here, it's used to select the top 10,000 features that have the strongest relationship with the output variable.\n",
        "The TF-IDF transformed datasets are further refined by retaining only the selected features.\n",
        "\n",
        "**Deep Neural Network Architecture:**\n",
        "\n",
        "A feed-forward neural network is constructed using the Keras library. The network comprises two hidden layers, with dropout layers interspersed to prevent overfitting. The softmax activation function in the output layer ensures compatibility with multi-class classification. The loss function, sparse_categorical_crossentropy, is suitable for integer-encoded class labels.\n",
        "\n",
        "**Model Training & Evaluation Framework:**\n",
        "\n",
        "Four distinct models are delineated: Naive Bayes, Support Vector Machine (SVM), Random Forest, and the previously defined Deep Neural Network.\n",
        "Each model undergoes training on the chi-squared selected features of the training dataset and is subsequently evaluated on the test dataset.\n",
        "Performance metrics, namely precision, recall, F1-score, accuracy, and support, are employed to gauge the efficacy of each model. These metrics provide a comprehensive assessment of the model's performance, considering both the positive and negative classes.\n",
        "The results are collated and presented in a structured tabular format using a DataFrame.\n",
        "\n",
        "**Outcome:**\n",
        "Upon execution, this code segment will render the performance metrics of each model when bigrams and chi-squared feature selection are employed. This will elucidate the potential advantages of these techniques in enhancing the model's understanding of the textual data.\n",
        "\n"
      ],
      "metadata": {
        "id": "EHQ03necQQ7J"
      }
    },
    {
      "cell_type": "code",
      "source": [
        "# Using bigrams\n",
        "tfidf_vectorizer_ngrams = TfidfVectorizer(stop_words='english', ngram_range=(1,2))\n",
        "X_train_tfidf_ngrams = tfidf_vectorizer_ngrams.fit_transform(X_train).toarray()  # Convert to array for Keras\n",
        "X_test_tfidf_ngrams = tfidf_vectorizer_ngrams.transform(X_test).toarray()\n",
        "\n",
        "# Select top 10,000 features based on the chi-squared test\n",
        "k_best = 10000\n",
        "ch2 = SelectKBest(chi2, k=k_best)\n",
        "X_train_chi2_selected = ch2.fit_transform(X_train_tfidf_ngrams, y_train)\n",
        "X_test_chi2_selected = ch2.transform(X_test_tfidf_ngrams)\n",
        "\n",
        "# Define a simple feed-forward neural network for Keras\n",
        "def create_nn_model():\n",
        "    model = Sequential()\n",
        "    model.add(Dense(128, input_dim=X_train_chi2_selected.shape[1], activation='relu'))\n",
        "    model.add(Dropout(0.5))\n",
        "    model.add(Dense(64, activation='relu'))\n",
        "    model.add(Dropout(0.5))\n",
        "    model.add(Dense(len(set(y_train)), activation='softmax'))  # Number of classes\n",
        "    model.compile(loss='sparse_categorical_crossentropy', optimizer='adam', metrics=['accuracy'])\n",
        "    return model\n",
        "\n",
        "def train_and_evaluate_models(X_train, X_test):\n",
        "    # Define the models\n",
        "    models = {\n",
        "        'Naive Bayes': MultinomialNB(),\n",
        "        'SVM': SVC(kernel='linear'),\n",
        "        'Random Forest': RandomForestClassifier(random_state=42),\n",
        "        'Deep Neural Network': KerasClassifier(build_fn=create_nn_model, epochs=10, batch_size=32, verbose=0)\n",
        "    }\n",
        "\n",
        "    # Train and evaluate the models\n",
        "    results = {}\n",
        "    for model_name, model in models.items():\n",
        "        # Train\n",
        "        model.fit(X_train, y_train)\n",
        "        # Predict\n",
        "        y_pred = model.predict(X_test)\n",
        "        # Evaluate\n",
        "        report = classification_report(y_test, y_pred, output_dict=True)\n",
        "        results[model_name] = {\n",
        "            'Precision': report['weighted avg']['precision'],\n",
        "            'Recall': report['weighted avg']['recall'],\n",
        "            'F1-Score': report['weighted avg']['f1-score'],\n",
        "            'Accuracy': report['accuracy'],\n",
        "            'Support': report['weighted avg']['support']\n",
        "        }\n",
        "\n",
        "    # Convert results to DataFrame for display\n",
        "    df_results = pd.DataFrame(results).transpose()\n",
        "    return df_results\n",
        "\n",
        "# Train and evaluate models with chi-squared selected features\n",
        "df_results_chi2 = train_and_evaluate_models(X_train_chi2_selected, X_test_chi2_selected)\n",
        "print(df_results_chi2)\n"
      ],
      "metadata": {
        "colab": {
          "base_uri": "https://localhost:8080/"
        },
        "id": "rXT69phPm0dx",
        "outputId": "0f0a1548-5688-409a-8d0a-0be915b76236"
      },
      "execution_count": 91,
      "outputs": [
        {
          "output_type": "stream",
          "name": "stderr",
          "text": [
            "<ipython-input-91-8652a61e351e>:29: DeprecationWarning: KerasClassifier is deprecated, use Sci-Keras (https://github.com/adriangb/scikeras) instead. See https://www.adriangb.com/scikeras/stable/migration.html for help migrating.\n",
            "  'Deep Neural Network': KerasClassifier(build_fn=create_nn_model, epochs=10, batch_size=32, verbose=0)\n"
          ]
        },
        {
          "output_type": "stream",
          "name": "stdout",
          "text": [
            "10/10 [==============================] - 0s 8ms/step\n",
            "                     Precision    Recall  F1-Score  Accuracy  Support\n",
            "Naive Bayes           0.958967  0.953333  0.953952  0.953333    300.0\n",
            "SVM                   0.981050  0.980000  0.980020  0.980000    300.0\n",
            "Random Forest         0.944199  0.933333  0.934784  0.933333    300.0\n",
            "Deep Neural Network   0.961052  0.960000  0.959823  0.960000    300.0\n"
          ]
        }
      ]
    },
    {
      "cell_type": "markdown",
      "source": [
        "**Naive Bayes, SVM, Random Forest, Deep Neural Network (Model Ensembling - Bagging)**"
      ],
      "metadata": {
        "id": "lJI0GE-5cTSb"
      }
    },
    {
      "cell_type": "markdown",
      "source": [
        "**Description:**\n",
        "\n",
        "In this segment, the code is centered on exploring the benefits of ensemble learning, specifically bagging, to enhance the document classification task. Bagging, or Bootstrap Aggregating, involves training multiple instances of a model on different subsets of the training data and then aggregating their predictions. This can reduce variance and improve generalization.\n",
        "\n",
        "**Deep Neural Network Architecture:**\n",
        "\n",
        "A feed-forward neural network is constructed using the Keras library. The network comprises two hidden layers, with dropout layers interspersed to prevent overfitting. The softmax activation function in the output layer ensures compatibility with multi-class classification. The loss function, sparse_categorical_crossentropy, is suitable for integer-encoded class labels.\n",
        "\n",
        "**Bagging with Deep Neural Network:**\n",
        "\n",
        "The BaggingClassifier from scikit-learn is employed to create an ensemble of the previously defined deep neural network. The ensemble consists of 10 instances of the neural network, each trained on a different subset of the chi-squared selected features of the training dataset.\n",
        "The ensemble is trained and subsequently evaluated on the test dataset.\n",
        "\n",
        "**Consolidation of Results:**\n",
        "\n",
        "The performance metrics of the bagging ensemble for the deep neural network are consolidated with those of other models (SVM, Random Forest, Naive Bayes) that have presumably been evaluated using bagging in prior code segments.\n",
        "Metrics such as precision, recall, F1-score, accuracy, and support are considered for a comprehensive assessment of the model's performance.\n",
        "The consolidated results are structured in a tabular format using a DataFrame for a clear and concise presentation.\n",
        "\n",
        "**Outcome:**\n",
        "Upon execution, this code segment will render the performance metrics of each model when bagging is employed. This will provide insights into the potential advantages of ensemble learning in enhancing the model's robustness and generalization capabilities.\n",
        "\n"
      ],
      "metadata": {
        "id": "qjLgdYv5QvFZ"
      }
    },
    {
      "cell_type": "code",
      "source": [
        "# Define a simple feed-forward neural network for Keras\n",
        "def create_nn_model():\n",
        "    model = Sequential()\n",
        "    model.add(Dense(128, input_dim=X_train_chi2_selected.shape[1], activation='relu'))\n",
        "    model.add(Dropout(0.5))\n",
        "    model.add(Dense(64, activation='relu'))\n",
        "    model.add(Dropout(0.5))\n",
        "    model.add(Dense(len(set(y_train)), activation='softmax'))  # Number of classes\n",
        "    model.compile(loss='sparse_categorical_crossentropy', optimizer='adam', metrics=['accuracy'])\n",
        "    return model\n",
        "\n",
        "# Bagging with Deep Neural Network\n",
        "bagging_dnn = BaggingClassifier(base_estimator=KerasClassifier(build_fn=create_nn_model, epochs=10, batch_size=32, verbose=0),\n",
        "                                n_estimators=10, random_state=42)\n",
        "bagging_dnn.fit(X_train_chi2_selected, y_train)\n",
        "y_pred_bagging_dnn = bagging_dnn.predict(X_test_chi2_selected)\n",
        "report_bagging_dnn = classification_report(y_test, y_pred_bagging_dnn, output_dict=True)\n",
        "\n",
        "# Consolidate and Display Results\n",
        "results_bagging = {\n",
        "    'Bagging SVM': {\n",
        "        'Precision': report_bagging_svm['weighted avg']['precision'],\n",
        "        'Recall': report_bagging_svm['weighted avg']['recall'],\n",
        "        'F1-Score': report_bagging_svm['weighted avg']['f1-score'],\n",
        "        'Accuracy': report_bagging_svm['accuracy'],\n",
        "        'Support': report_bagging_svm['weighted avg']['support']\n",
        "    },\n",
        "    'Bagging Random Forest': {\n",
        "        'Precision': report_bagging_rf['weighted avg']['precision'],\n",
        "        'Recall': report_bagging_rf['weighted avg']['recall'],\n",
        "        'F1-Score': report_bagging_rf['weighted avg']['f1-score'],\n",
        "        'Accuracy': report_bagging_rf['accuracy'],\n",
        "        'Support': report_bagging_rf['weighted avg']['support']\n",
        "    },\n",
        "    'Bagging Naive Bayes': {\n",
        "        'Precision': report_bagging_nb['weighted avg']['precision'],\n",
        "        'Recall': report_bagging_nb['weighted avg']['recall'],\n",
        "        'F1-Score': report_bagging_nb['weighted avg']['f1-score'],\n",
        "        'Accuracy': report_bagging_nb['accuracy'],\n",
        "        'Support': report_bagging_nb['weighted avg']['support']\n",
        "    },\n",
        "    'Bagging Deep Neural Network': {\n",
        "        'Precision': report_bagging_dnn['weighted avg']['precision'],\n",
        "        'Recall': report_bagging_dnn['weighted avg']['recall'],\n",
        "        'F1-Score': report_bagging_dnn['weighted avg']['f1-score'],\n",
        "        'Accuracy': report_bagging_dnn['accuracy'],\n",
        "        'Support': report_bagging_dnn['weighted avg']['support']\n",
        "    }\n",
        "}\n",
        "\n",
        "# Convert results to DataFrame for display\n",
        "df_results_bagging = pd.DataFrame(results_bagging).transpose()\n",
        "print(df_results_bagging)\n"
      ],
      "metadata": {
        "colab": {
          "base_uri": "https://localhost:8080/"
        },
        "id": "QhLz0Z0XoYjZ",
        "outputId": "b1afb2ac-04f8-49c4-e318-c411a3ad84e2"
      },
      "execution_count": 94,
      "outputs": [
        {
          "output_type": "stream",
          "name": "stderr",
          "text": [
            "<ipython-input-94-82773ada7ea5>:13: DeprecationWarning: KerasClassifier is deprecated, use Sci-Keras (https://github.com/adriangb/scikeras) instead. See https://www.adriangb.com/scikeras/stable/migration.html for help migrating.\n",
            "  bagging_dnn = BaggingClassifier(base_estimator=KerasClassifier(build_fn=create_nn_model, epochs=10, batch_size=32, verbose=0),\n",
            "/usr/local/lib/python3.10/dist-packages/sklearn/ensemble/_base.py:166: FutureWarning: `base_estimator` was renamed to `estimator` in version 1.2 and will be removed in 1.4.\n",
            "  warnings.warn(\n"
          ]
        },
        {
          "output_type": "stream",
          "name": "stdout",
          "text": [
            "10/10 [==============================] - 0s 5ms/step\n",
            "10/10 [==============================] - 0s 5ms/step\n",
            "10/10 [==============================] - 0s 5ms/step\n",
            "10/10 [==============================] - 0s 5ms/step\n",
            "10/10 [==============================] - 0s 4ms/step\n",
            "10/10 [==============================] - 0s 5ms/step\n",
            "10/10 [==============================] - 0s 5ms/step\n",
            "10/10 [==============================] - 0s 9ms/step\n",
            "10/10 [==============================] - 0s 6ms/step\n",
            "10/10 [==============================] - 0s 7ms/step\n",
            "                             Precision    Recall  F1-Score  Accuracy  Support\n",
            "Bagging SVM                   0.974835  0.973333  0.973534  0.973333    300.0\n",
            "Bagging Random Forest         0.955917  0.940000  0.942346  0.940000    300.0\n",
            "Bagging Naive Bayes           0.957694  0.946667  0.948358  0.946667    300.0\n",
            "Bagging Deep Neural Network   0.977305  0.976667  0.976735  0.976667    300.0\n"
          ]
        }
      ]
    },
    {
      "cell_type": "markdown",
      "source": [
        "**Naive Bayes, SVM, Random Forest, Deep Neural Network (Regularization Techniques - Dropout)**"
      ],
      "metadata": {
        "id": "56Z4ZTaZnmL-"
      }
    },
    {
      "cell_type": "markdown",
      "source": [
        "**Description:**\n",
        "\n",
        "In this segment, the primary focus is on the exploration of regularization techniques to improve the generalization capabilities of various machine learning models for document classification. Regularization helps in preventing overfitting, ensuring that the model performs well on unseen data.\n",
        "\n",
        "**Deep Neural Network with Dropout Regularization:**\n",
        "\n",
        "A feed-forward neural network is constructed using the TensorFlow and Keras libraries. Dropout layers are introduced after the dense layers to serve as a regularization mechanism. By randomly setting a fraction of input units to 0 at each update during training, dropout helps prevent overfitting.\n",
        "The network is trained on the chi-squared selected features of the training dataset and subsequently evaluated on the test dataset.\n",
        "\n",
        "**Support Vector Machines (SVM) with L1 and L2 Regularization:**\n",
        "\n",
        "Two SVM models are trained: one with L1 regularization and the other with L2 regularization. L1 regularization can lead to feature selection as it tends to produce a sparse weight vector, while L2 regularization can prevent overfitting without necessarily zeroing out weights.\n",
        "\n",
        "**Naive Bayes with Regularization:**\n",
        "\n",
        "A Naive Bayes classifier is trained with Laplace smoothing (controlled by the alpha parameter). This regularization technique helps in handling the absence of features in the training data that might appear in the test data.\n",
        "\n",
        "**Random Forest with Regularization:**\n",
        "\n",
        "A Random Forest classifier is trained with hyperparameters that act as regularization. The max_depth parameter ensures that the trees do not grow too deep, and the max_features parameter controls the number of features to consider when looking for the best split.\n",
        "\n",
        "The performance metrics of all models, including precision, recall, F1-score, accuracy, and support, are consolidated into a structured format.\n",
        "The results are presented in a tabular format using a DataFrame for clarity.\n",
        "\n",
        "**Outcome:**\n",
        "Upon execution, this code segment will display the performance metrics of each model with their respective regularization techniques. This will provide insights into the efficacy of regularization in enhancing the model's robustness and performance on unseen data.\n",
        "\n"
      ],
      "metadata": {
        "id": "7pwZfycWRSs4"
      }
    },
    {
      "cell_type": "code",
      "source": [
        "import tensorflow as tf\n",
        "from tensorflow.keras.models import Sequential\n",
        "from tensorflow.keras.layers import Dense, Dropout\n",
        "from tensorflow.keras.wrappers.scikit_learn import KerasClassifier\n",
        "from sklearn.metrics import classification_report\n",
        "\n",
        "# Define a simple feed-forward neural network for Keras with dropout as regularization\n",
        "def create_nn_model():\n",
        "    model = Sequential()\n",
        "    model.add(Dense(128, input_dim=X_train_chi2_selected.shape[1], activation='relu'))\n",
        "    model.add(Dropout(0.5))  # Dropout layer for regularization\n",
        "    model.add(Dense(64, activation='relu'))\n",
        "    model.add(Dropout(0.5))  # Dropout layer for regularization\n",
        "    model.add(Dense(len(set(y_train)), activation='softmax'))  # Number of classes\n",
        "    model.compile(loss='sparse_categorical_crossentropy', optimizer='adam', metrics=['accuracy'])\n",
        "    return model\n",
        "\n",
        "# Train the neural network\n",
        "nn_model = KerasClassifier(build_fn=create_nn_model, epochs=10, batch_size=32, verbose=0)\n",
        "nn_model.fit(X_train_chi2_selected, y_train)  # No need for .toarray()\n",
        "y_pred_nn = nn_model.predict(X_test_chi2_selected)\n",
        "report_nn = classification_report(y_test, y_pred_nn, output_dict=True)\n",
        "\n",
        "# SVM with L1 regularization\n",
        "svm_l1 = LinearSVC(penalty='l1', dual=False, C=1.0)\n",
        "svm_l1.fit(X_train_chi2_selected, y_train)\n",
        "y_pred_svm_l1 = svm_l1.predict(X_test_chi2_selected)\n",
        "report_svm_l1 = classification_report(y_test, y_pred_svm_l1, output_dict=True)\n",
        "\n",
        "# SVM with L2 regularization (default in SVC)\n",
        "svm_l2 = SVC(kernel='linear', C=1.0)\n",
        "svm_l2.fit(X_train_chi2_selected, y_train)\n",
        "y_pred_svm_l2 = svm_l2.predict(X_test_chi2_selected)\n",
        "report_svm_l2 = classification_report(y_test, y_pred_svm_l2, output_dict=True)\n",
        "\n",
        "# Naive Bayes with regularization (alpha parameter)\n",
        "nb_regularized = MultinomialNB(alpha=0.5)  # alpha=1.0 is default (Laplace smoothing)\n",
        "nb_regularized.fit(X_train_chi2_selected, y_train)\n",
        "y_pred_nb_regularized = nb_regularized.predict(X_test_chi2_selected)\n",
        "report_nb_regularized = classification_report(y_test, y_pred_nb_regularized, output_dict=True)\n",
        "\n",
        "# Random Forest with hyperparameters acting as regularization\n",
        "rf_regularized = RandomForestClassifier(n_estimators=100, max_depth=10, max_features='sqrt', random_state=42)\n",
        "rf_regularized.fit(X_train_chi2_selected, y_train)\n",
        "y_pred_rf_regularized = rf_regularized.predict(X_test_chi2_selected)\n",
        "report_rf_regularized = classification_report(y_test, y_pred_rf_regularized, output_dict=True)\n",
        "\n",
        "# Consolidate and Display Results\n",
        "results_regularized = {\n",
        "    'SVM L1': {\n",
        "        'Precision': report_svm_l1['weighted avg']['precision'],\n",
        "        'Recall': report_svm_l1['weighted avg']['recall'],\n",
        "        'F1-Score': report_svm_l1['weighted avg']['f1-score'],\n",
        "        'Accuracy': report_svm_l1['accuracy'],\n",
        "        'Support': report_svm_l1['weighted avg']['support']\n",
        "    },\n",
        "    'SVM L2': {\n",
        "        'Precision': report_svm_l2['weighted avg']['precision'],\n",
        "        'Recall': report_svm_l2['weighted avg']['recall'],\n",
        "        'F1-Score': report_svm_l2['weighted avg']['f1-score'],\n",
        "        'Accuracy': report_svm_l2['accuracy'],\n",
        "        'Support': report_svm_l2['weighted avg']['support']\n",
        "    },\n",
        "    'Naive Bayes Regularized': {\n",
        "        'Precision': report_nb_regularized['weighted avg']['precision'],\n",
        "        'Recall': report_nb_regularized['weighted avg']['recall'],\n",
        "        'F1-Score': report_nb_regularized['weighted avg']['f1-score'],\n",
        "        'Accuracy': report_nb_regularized['accuracy'],\n",
        "        'Support': report_nb_regularized['weighted avg']['support']\n",
        "    },\n",
        "    'Random Forest Regularized': {\n",
        "        'Precision': report_rf_regularized['weighted avg']['precision'],\n",
        "        'Recall': report_rf_regularized['weighted avg']['recall'],\n",
        "        'F1-Score': report_rf_regularized['weighted avg']['f1-score'],\n",
        "        'Accuracy': report_rf_regularized['accuracy'],\n",
        "        'Support': report_rf_regularized['weighted avg']['support']\n",
        "    },\n",
        "    'Deep Neural Network': {\n",
        "        'Precision': report_nn['weighted avg']['precision'],\n",
        "        'Recall': report_nn['weighted avg']['recall'],\n",
        "        'F1-Score': report_nn['weighted avg']['f1-score'],\n",
        "        'Accuracy': report_nn['accuracy'],\n",
        "        'Support': report_nn['weighted avg']['support']\n",
        "    }\n",
        "}\n",
        "\n",
        "# Convert results to DataFrame for display\n",
        "df_results_regularized = pd.DataFrame(results_regularized).transpose()\n",
        "print(df_results_regularized)\n"
      ],
      "metadata": {
        "colab": {
          "base_uri": "https://localhost:8080/"
        },
        "id": "SRey9kdVcZlE",
        "outputId": "b5c37c2a-c6ce-42ef-b068-224bee71f6ff"
      },
      "execution_count": 96,
      "outputs": [
        {
          "output_type": "stream",
          "name": "stderr",
          "text": [
            "<ipython-input-96-8aa843e8eee4>:19: DeprecationWarning: KerasClassifier is deprecated, use Sci-Keras (https://github.com/adriangb/scikeras) instead. See https://www.adriangb.com/scikeras/stable/migration.html for help migrating.\n",
            "  nn_model = KerasClassifier(build_fn=create_nn_model, epochs=10, batch_size=32, verbose=0)\n"
          ]
        },
        {
          "output_type": "stream",
          "name": "stdout",
          "text": [
            "10/10 [==============================] - 0s 11ms/step\n",
            "                           Precision    Recall  F1-Score  Accuracy  Support\n",
            "SVM L1                      0.911461  0.910000  0.909475  0.910000    300.0\n",
            "SVM L2                      0.981050  0.980000  0.980020  0.980000    300.0\n",
            "Naive Bayes Regularized     0.959588  0.956667  0.957017  0.956667    300.0\n",
            "Random Forest Regularized   0.910847  0.910000  0.909279  0.910000    300.0\n",
            "Deep Neural Network         0.977284  0.976667  0.976714  0.976667    300.0\n"
          ]
        }
      ]
    },
    {
      "cell_type": "markdown",
      "source": [
        "**Best Model without combinations**"
      ],
      "metadata": {
        "id": "QgUcVZ1lq_Oe"
      }
    },
    {
      "cell_type": "markdown",
      "source": [
        "**Description:**\n",
        "\n",
        "In this code segment, the primary objective is to consolidate the results from various model configurations and preprocessing techniques, and then identify the best-performing model based on the F1-Score.\n",
        "\n",
        "**Consolidation of Results:**\n",
        "\n",
        "The results from different model configurations and preprocessing techniques, namely standard models, models with N-grams, models using Word2Vec embeddings, models with chi-squared selected features, models with bagging, and models with regularization, are consolidated into a single DataFrame.\n",
        "This consolidation provides a unified view, making it easier to compare and analyze the performance of different configurations side by side.\n",
        "\n",
        "**Sorting based on F1-Score:**\n",
        "\n",
        "The consolidated results are sorted in descending order based on the F1-Score. The F1-Score is a harmonic mean of precision and recall, providing a balanced measure of a model's performance, especially in cases where class distributions might be imbalanced.\n",
        "\n",
        "**Display of Results:**\n",
        "\n",
        "The sorted results are displayed in tabular format, providing a clear view of how each model configuration performed relative to the others.\n",
        "\n",
        "**Identification of the Best Model:**\n",
        "\n",
        "The model with the highest F1-Score is identified as the best model.\n",
        "Details of the best model, including its name and F1-Score, are displayed.\n",
        "\n",
        "**Outcome:**\n",
        "Upon execution, this code segment will present a comprehensive view of the performance metrics of all model configurations. It will also highlight the best-performing model based on the F1-Score, providing a clear recommendation for the most effective model configuration for the given task.\n",
        "\n"
      ],
      "metadata": {
        "id": "HyyfvHtSRxpU"
      }
    },
    {
      "cell_type": "code",
      "source": [
        "# Consolidate all results\n",
        "all_results = pd.concat([\n",
        "    df_results,\n",
        "    df_results_ngrams,\n",
        "    df_results_word2vec,\n",
        "    df_results_chi2,\n",
        "    df_results_bagging,\n",
        "    df_results_regularized,\n",
        "])\n",
        "\n",
        "# Sort based on F1-Score\n",
        "sorted_results = all_results.sort_values(by='F1-Score', ascending=False)\n",
        "\n",
        "# Display the consolidated results\n",
        "print(sorted_results)\n",
        "\n",
        "# Display the best model\n",
        "best_model = sorted_results.iloc[0]\n",
        "print(\"\\nBest Model based on F1-Score:\")\n",
        "print(best_model.name)\n",
        "print(\"F1-Score:\", best_model['F1-Score'])\n"
      ],
      "metadata": {
        "colab": {
          "base_uri": "https://localhost:8080/"
        },
        "id": "nKqiBFYuqff3",
        "outputId": "b2b27395-4e5a-4319-b8d6-daaff2395cef"
      },
      "execution_count": 99,
      "outputs": [
        {
          "output_type": "stream",
          "name": "stdout",
          "text": [
            "                             Precision    Recall  F1-Score  Accuracy  Support\n",
            "SVM                           0.983682  0.983333  0.983351  0.983333    300.0\n",
            "SVM                           0.983936  0.983333  0.983265  0.983333    300.0\n",
            "SVM L2                        0.981050  0.980000  0.980020  0.980000    300.0\n",
            "SVM                           0.981050  0.980000  0.980020  0.980000    300.0\n",
            "Deep Neural Network           0.980331  0.980000  0.979986  0.980000    300.0\n",
            "Deep Neural Network           0.977571  0.976667  0.976825  0.976667    300.0\n",
            "Bagging Deep Neural Network   0.977305  0.976667  0.976735  0.976667    300.0\n",
            "Deep Neural Network           0.977284  0.976667  0.976714  0.976667    300.0\n",
            "Bagging SVM                   0.974835  0.973333  0.973534  0.973333    300.0\n",
            "Naive Bayes                   0.963079  0.960000  0.960568  0.960000    300.0\n",
            "Deep Neural Network           0.961052  0.960000  0.959823  0.960000    300.0\n",
            "Naive Bayes Regularized       0.959588  0.956667  0.957017  0.956667    300.0\n",
            "Naive Bayes                   0.960224  0.953333  0.954150  0.953333    300.0\n",
            "Naive Bayes                   0.958967  0.953333  0.953952  0.953333    300.0\n",
            "Random Forest                 0.956635  0.953333  0.953764  0.953333    300.0\n",
            "SVM                           0.952229  0.950000  0.950233  0.950000    300.0\n",
            "Bagging Naive Bayes           0.957694  0.946667  0.948358  0.946667    300.0\n",
            "Bagging Random Forest         0.955917  0.940000  0.942346  0.940000    300.0\n",
            "Random Forest                 0.945676  0.940000  0.940136  0.940000    300.0\n",
            "Random Forest                 0.944199  0.933333  0.934784  0.933333    300.0\n",
            "Deep Neural Network           0.927311  0.920000  0.919374  0.920000    300.0\n",
            "SVM L1                        0.911461  0.910000  0.909475  0.910000    300.0\n",
            "Random Forest Regularized     0.910847  0.910000  0.909279  0.910000    300.0\n",
            "Random Forest                 0.918228  0.910000  0.909164  0.910000    300.0\n",
            "Naive Bayes                   0.913782  0.890000  0.896101  0.890000    300.0\n",
            "\n",
            "Best Model based on F1-Score:\n",
            "SVM\n",
            "F1-Score: 0.9833512749362039\n"
          ]
        }
      ]
    },
    {
      "cell_type": "markdown",
      "source": [
        "**Best Model with combinations**"
      ],
      "metadata": {
        "id": "nvGcWdKEST4b"
      }
    },
    {
      "cell_type": "markdown",
      "source": [
        "**Description:**\n",
        "\n",
        "This code segment is designed to evaluate the performance of various machine learning models, combined with different preprocessing techniques, feature selection methods, and regularization techniques, on a given dataset. The primary objective is to identify the best-performing model configuration based on the F1-Score.\n",
        "\n",
        "**Neural Network Definition:**\n",
        "\n",
        "A simple feed-forward neural network is defined using Keras. This network will be used as one of the classifiers in the subsequent steps.\n",
        "\n",
        "**Model, Preprocessing, and Feature Selection Definitions:**\n",
        "\n",
        "Four machine learning models are defined: Linear SVM, Naive Bayes, Random Forest, and a Neural Network.\n",
        "Two preprocessing techniques are defined: TF-IDF and TF-IDF with N-grams.\n",
        "Two feature selection methods are defined: Chi-squared test and no selection.\n",
        "Two regularization techniques are defined for the Linear SVM: L1 and L2.\n",
        "\n",
        "**Training and Evaluation Loop:**\n",
        "\n",
        "A nested loop is used to iterate through each combination of model, preprocessing technique, feature selection method, and regularization technique.\n",
        "For each combination, the data is preprocessed, features are selected (if applicable), the model is trained, and predictions are made on the test set.\n",
        "Evaluation metrics (Precision, Recall, F1-Score, Accuracy, and Support) are calculated for each combination and stored in a list.\n",
        "\n",
        "**Results Consolidation and Display:**\n",
        "\n",
        "The results are consolidated into a DataFrame for easier visualization and analysis.\n",
        "The results are sorted based on the F1-Score in descending order to identify the best-performing model configuration.\n",
        "The consolidated results are displayed, followed by details of the best-performing model.\n",
        "\n",
        "**Outcome:**\n",
        "\n",
        "Upon execution, this code segment will provide a comprehensive view of the performance metrics of all model configurations. It will also highlight the best-performing model based on the F1-Score, offering insights into the most effective model configuration for the given task.\n",
        "\n"
      ],
      "metadata": {
        "id": "rDRULJOLSYRE"
      }
    },
    {
      "cell_type": "code",
      "source": [
        "# Define a function to create the neural network model\n",
        "def create_nn_model(input_dim):\n",
        "    model = Sequential()\n",
        "    model.add(Dense(128, input_dim=input_dim, activation='relu'))\n",
        "    model.add(Dense(64, activation='relu'))\n",
        "    model.add(Dense(1, activation='sigmoid'))\n",
        "    model.compile(loss='binary_crossentropy', optimizer='adam', metrics=['accuracy'])\n",
        "    return model\n",
        "\n",
        "# Define models\n",
        "models = {\n",
        "    'Linear SVM': LinearSVC(),\n",
        "    'Naive Bayes': MultinomialNB(),\n",
        "    'Random Forest': RandomForestClassifier(random_state=42),\n",
        "    'Neural Network': None  # Placeholder, will be defined later\n",
        "}\n",
        "\n",
        "# Define preprocessing techniques\n",
        "preprocessing_techniques = {\n",
        "    'TF-IDF': TfidfVectorizer(stop_words='english'),\n",
        "    'TF-IDF Ngrams': TfidfVectorizer(stop_words='english', ngram_range=(1,2))\n",
        "}\n",
        "\n",
        "# Define feature selection/enhancement techniques\n",
        "feature_selection_methods = {\n",
        "    'Chi-squared': SelectKBest(chi2, k=10000),\n",
        "    'No Selection': None\n",
        "}\n",
        "\n",
        "# Define regularization techniques (only for SVM)\n",
        "regularizations = {\n",
        "    'L1': {'penalty': 'l1', 'dual': False},\n",
        "    'L2': {'penalty': 'l2'}\n",
        "}\n",
        "\n",
        "results_list = []\n",
        "\n",
        "for model_name, model in models.items():\n",
        "    for preprocess_name, preprocess in preprocessing_techniques.items():\n",
        "        for feature_name, feature_method in feature_selection_methods.items():\n",
        "\n",
        "            # Preprocess the data\n",
        "            X_train_preprocessed = preprocess.fit_transform(X_train)\n",
        "            X_test_preprocessed = preprocess.transform(X_test)\n",
        "\n",
        "            # Feature selection\n",
        "            if feature_method:\n",
        "                X_train_selected = feature_method.fit_transform(X_train_preprocessed, y_train)\n",
        "                X_test_selected = feature_method.transform(X_test_preprocessed)\n",
        "            else:\n",
        "                X_train_selected = X_train_preprocessed\n",
        "                X_test_selected = X_test_preprocessed\n",
        "\n",
        "            # Regularization (only for Linear SVM)\n",
        "            if model_name == 'Linear SVM':\n",
        "                for reg_name, reg_params in regularizations.items():\n",
        "                    model.set_params(**reg_params)\n",
        "\n",
        "                    # Train the model\n",
        "                    model.fit(X_train_selected, y_train)\n",
        "\n",
        "                    # Evaluate the model\n",
        "                    y_pred = model.predict(X_test_selected)\n",
        "\n",
        "                    precision = precision_score(y_test, y_pred, average='weighted')\n",
        "                    recall = recall_score(y_test, y_pred, average='weighted')\n",
        "                    f1 = f1_score(y_test, y_pred, average='weighted')\n",
        "                    accuracy = accuracy_score(y_test, y_pred)\n",
        "                    support = len(y_test)\n",
        "\n",
        "                    results_list.append({\n",
        "                        'Model': model_name,\n",
        "                        'Preprocessing': preprocess_name,\n",
        "                        'Feature Selection': feature_name,\n",
        "                        'Regularization': reg_name,\n",
        "                        'Precision': precision,\n",
        "                        'Recall': recall,\n",
        "                        'F1-Score': f1,\n",
        "                        'Accuracy': accuracy,\n",
        "                        'Support': support\n",
        "                    })\n",
        "\n",
        "            elif model_name == 'Neural Network':\n",
        "                input_dim = X_train_selected.shape[1]\n",
        "                model = KerasClassifier(build_fn=create_nn_model, input_dim=input_dim, epochs=10, batch_size=32, verbose=0)\n",
        "                model.fit(X_train_selected.toarray(), y_train)  # Convert sparse matrix to dense\n",
        "                y_pred = model.predict(X_test_selected.toarray())\n",
        "\n",
        "                precision = precision_score(y_test, y_pred, average='weighted')\n",
        "                recall = recall_score(y_test, y_pred, average='weighted')\n",
        "                f1 = f1_score(y_test, y_pred, average='weighted')\n",
        "                accuracy = accuracy_score(y_test, y_pred)\n",
        "                support = len(y_test)\n",
        "\n",
        "                results_list.append({\n",
        "                    'Model': model_name,\n",
        "                    'Preprocessing': preprocess_name,\n",
        "                    'Feature Selection': feature_name,\n",
        "                    'Regularization': 'N/A',\n",
        "                    'Precision': precision,\n",
        "                    'Recall': recall,\n",
        "                    'F1-Score': f1,\n",
        "                    'Accuracy': accuracy,\n",
        "                    'Support': support\n",
        "                })\n",
        "\n",
        "            else:\n",
        "                # Train the model\n",
        "                model.fit(X_train_selected, y_train)\n",
        "\n",
        "                # Evaluate the model\n",
        "                y_pred = model.predict(X_test_selected)\n",
        "\n",
        "                precision = precision_score(y_test, y_pred, average='weighted')\n",
        "                recall = recall_score(y_test, y_pred, average='weighted')\n",
        "                f1 = f1_score(y_test, y_pred, average='weighted')\n",
        "                accuracy = accuracy_score(y_test, y_pred)\n",
        "                support = len(y_test)\n",
        "\n",
        "                results_list.append({\n",
        "                    'Model': model_name,\n",
        "                    'Preprocessing': preprocess_name,\n",
        "                    'Feature Selection': feature_name,\n",
        "                    'Regularization': 'N/A',\n",
        "                    'Precision': precision,\n",
        "                    'Recall': recall,\n",
        "                    'F1-Score': f1,\n",
        "                    'Accuracy': accuracy,\n",
        "                    'Support': support\n",
        "                })\n",
        "\n",
        "# Convert results to DataFrame for display\n",
        "df_results = pd.DataFrame(results_list)\n",
        "\n",
        "# Sort based on F1-Score\n",
        "sorted_results = df_results.sort_values(by='F1-Score', ascending=False)\n",
        "\n",
        "# Display the consolidated results\n",
        "print(sorted_results)\n",
        "\n",
        "# Display the best model\n",
        "best_model = sorted_results.iloc[0]\n",
        "print(\"\\nBest Model based on F1-Score:\")\n",
        "print(best_model['Model'])\n",
        "print(\"F1-Score:\", best_model['F1-Score'])\n"
      ],
      "metadata": {
        "colab": {
          "base_uri": "https://localhost:8080/"
        },
        "id": "KQdwV9NyDClJ",
        "outputId": "fa01c691-65b8-41cd-8f4a-7325574ffefe"
      },
      "execution_count": 119,
      "outputs": [
        {
          "output_type": "stream",
          "name": "stderr",
          "text": [
            "<ipython-input-119-4c112111f3a1>:95: DeprecationWarning: KerasClassifier is deprecated, use Sci-Keras (https://github.com/adriangb/scikeras) instead. See https://www.adriangb.com/scikeras/stable/migration.html for help migrating.\n",
            "  model = KerasClassifier(build_fn=create_nn_model, input_dim=input_dim, epochs=10, batch_size=32, verbose=0)\n"
          ]
        },
        {
          "output_type": "stream",
          "name": "stdout",
          "text": [
            "10/10 [==============================] - 0s 5ms/step\n"
          ]
        },
        {
          "output_type": "stream",
          "name": "stderr",
          "text": [
            "/usr/local/lib/python3.10/dist-packages/sklearn/metrics/_classification.py:1344: UndefinedMetricWarning: Precision is ill-defined and being set to 0.0 in labels with no predicted samples. Use `zero_division` parameter to control this behavior.\n",
            "  _warn_prf(average, modifier, msg_start, len(result))\n",
            "<ipython-input-119-4c112111f3a1>:95: DeprecationWarning: KerasClassifier is deprecated, use Sci-Keras (https://github.com/adriangb/scikeras) instead. See https://www.adriangb.com/scikeras/stable/migration.html for help migrating.\n",
            "  model = KerasClassifier(build_fn=create_nn_model, input_dim=input_dim, epochs=10, batch_size=32, verbose=0)\n"
          ]
        },
        {
          "output_type": "stream",
          "name": "stdout",
          "text": [
            "10/10 [==============================] - 0s 8ms/step\n"
          ]
        },
        {
          "output_type": "stream",
          "name": "stderr",
          "text": [
            "/usr/local/lib/python3.10/dist-packages/sklearn/metrics/_classification.py:1344: UndefinedMetricWarning: Precision is ill-defined and being set to 0.0 in labels with no predicted samples. Use `zero_division` parameter to control this behavior.\n",
            "  _warn_prf(average, modifier, msg_start, len(result))\n",
            "<ipython-input-119-4c112111f3a1>:95: DeprecationWarning: KerasClassifier is deprecated, use Sci-Keras (https://github.com/adriangb/scikeras) instead. See https://www.adriangb.com/scikeras/stable/migration.html for help migrating.\n",
            "  model = KerasClassifier(build_fn=create_nn_model, input_dim=input_dim, epochs=10, batch_size=32, verbose=0)\n"
          ]
        },
        {
          "output_type": "stream",
          "name": "stdout",
          "text": [
            "10/10 [==============================] - 0s 5ms/step\n"
          ]
        },
        {
          "output_type": "stream",
          "name": "stderr",
          "text": [
            "/usr/local/lib/python3.10/dist-packages/sklearn/metrics/_classification.py:1344: UndefinedMetricWarning: Precision is ill-defined and being set to 0.0 in labels with no predicted samples. Use `zero_division` parameter to control this behavior.\n",
            "  _warn_prf(average, modifier, msg_start, len(result))\n",
            "<ipython-input-119-4c112111f3a1>:95: DeprecationWarning: KerasClassifier is deprecated, use Sci-Keras (https://github.com/adriangb/scikeras) instead. See https://www.adriangb.com/scikeras/stable/migration.html for help migrating.\n",
            "  model = KerasClassifier(build_fn=create_nn_model, input_dim=input_dim, epochs=10, batch_size=32, verbose=0)\n"
          ]
        },
        {
          "output_type": "stream",
          "name": "stdout",
          "text": [
            "10/10 [==============================] - 1s 69ms/step\n",
            "             Model  Preprocessing Feature Selection Regularization  Precision  \\\n",
            "7       Linear SVM  TF-IDF Ngrams      No Selection             L2   0.980690   \n",
            "3       Linear SVM         TF-IDF      No Selection             L2   0.977360   \n",
            "5       Linear SVM  TF-IDF Ngrams       Chi-squared             L2   0.977354   \n",
            "1       Linear SVM         TF-IDF       Chi-squared             L2   0.977767   \n",
            "8      Naive Bayes         TF-IDF       Chi-squared            N/A   0.963079   \n",
            "9      Naive Bayes         TF-IDF      No Selection            N/A   0.963079   \n",
            "11     Naive Bayes  TF-IDF Ngrams      No Selection            N/A   0.960224   \n",
            "10     Naive Bayes  TF-IDF Ngrams       Chi-squared            N/A   0.958967   \n",
            "13   Random Forest         TF-IDF      No Selection            N/A   0.945676   \n",
            "14   Random Forest  TF-IDF Ngrams       Chi-squared            N/A   0.944199   \n",
            "0       Linear SVM         TF-IDF       Chi-squared             L1   0.935482   \n",
            "2       Linear SVM         TF-IDF      No Selection             L1   0.935482   \n",
            "12   Random Forest         TF-IDF       Chi-squared            N/A   0.931856   \n",
            "6       Linear SVM  TF-IDF Ngrams      No Selection             L1   0.911461   \n",
            "4       Linear SVM  TF-IDF Ngrams       Chi-squared             L1   0.911461   \n",
            "15   Random Forest  TF-IDF Ngrams      No Selection            N/A   0.918228   \n",
            "16  Neural Network         TF-IDF       Chi-squared            N/A   0.004444   \n",
            "17  Neural Network         TF-IDF      No Selection            N/A   0.004444   \n",
            "18  Neural Network  TF-IDF Ngrams       Chi-squared            N/A   0.004444   \n",
            "19  Neural Network  TF-IDF Ngrams      No Selection            N/A   0.004444   \n",
            "\n",
            "      Recall  F1-Score  Accuracy  Support  \n",
            "7   0.980000  0.979828  0.980000      300  \n",
            "3   0.976667  0.976495  0.976667      300  \n",
            "5   0.976667  0.976494  0.976667      300  \n",
            "1   0.976667  0.976447  0.976667      300  \n",
            "8   0.960000  0.960568  0.960000      300  \n",
            "9   0.960000  0.960568  0.960000      300  \n",
            "11  0.953333  0.954150  0.953333      300  \n",
            "10  0.953333  0.953952  0.953333      300  \n",
            "13  0.940000  0.940136  0.940000      300  \n",
            "14  0.933333  0.934784  0.933333      300  \n",
            "0   0.933333  0.933101  0.933333      300  \n",
            "2   0.933333  0.933101  0.933333      300  \n",
            "12  0.926667  0.927387  0.926667      300  \n",
            "6   0.910000  0.909475  0.910000      300  \n",
            "4   0.910000  0.909475  0.910000      300  \n",
            "15  0.910000  0.909164  0.910000      300  \n",
            "16  0.066667  0.008333  0.066667      300  \n",
            "17  0.066667  0.008333  0.066667      300  \n",
            "18  0.066667  0.008333  0.066667      300  \n",
            "19  0.066667  0.008333  0.066667      300  \n",
            "\n",
            "Best Model based on F1-Score:\n",
            "Linear SVM\n",
            "F1-Score: 0.9798276122881252\n"
          ]
        },
        {
          "output_type": "stream",
          "name": "stderr",
          "text": [
            "/usr/local/lib/python3.10/dist-packages/sklearn/metrics/_classification.py:1344: UndefinedMetricWarning: Precision is ill-defined and being set to 0.0 in labels with no predicted samples. Use `zero_division` parameter to control this behavior.\n",
            "  _warn_prf(average, modifier, msg_start, len(result))\n"
          ]
        }
      ]
    }
  ]
}